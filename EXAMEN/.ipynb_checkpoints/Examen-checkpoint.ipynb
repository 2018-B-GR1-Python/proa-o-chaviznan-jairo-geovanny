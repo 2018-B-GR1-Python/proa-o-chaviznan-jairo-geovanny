{
 "cells": [
  {
   "cell_type": "code",
   "execution_count": 1,
   "metadata": {},
   "outputs": [],
   "source": [
    "import numpy as np\n",
    "import pandas as pd"
   ]
  },
  {
   "cell_type": "code",
   "execution_count": 3,
   "metadata": {},
   "outputs": [
    {
     "data": {
      "text/plain": [
       "array([0., 0., 0., 0., 0., 0., 0., 0., 0., 0.])"
      ]
     },
     "execution_count": 3,
     "metadata": {},
     "output_type": "execute_result"
    }
   ],
   "source": [
    "# 2) Crear un vector de ceros de tamaño 10\n",
    "vector_de_ceros = np.zeros(10)\n",
    "vector_de_ceros"
   ]
  },
  {
   "cell_type": "code",
   "execution_count": 38,
   "metadata": {},
   "outputs": [
    {
     "data": {
      "text/plain": [
       "array([0., 0., 0., 0., 1., 0., 0., 0., 0., 0.])"
      ]
     },
     "execution_count": 38,
     "metadata": {},
     "output_type": "execute_result"
    }
   ],
   "source": [
    "# 3) Crear un vector de ceros de tamaño 10 y el de la posicion 5 sea igual a 1\n",
    "vector_de_ceros = np.zeros(10)\n",
    "vector_de_ceros[4] = 1\n",
    "vector_de_ceros"
   ]
  },
  {
   "cell_type": "code",
   "execution_count": 11,
   "metadata": {},
   "outputs": [
    {
     "data": {
      "text/plain": [
       "array([49, 48, 47, 46, 45, 44, 43, 42, 41, 40, 39, 38, 37, 36, 35, 34, 33,\n",
       "       32, 31, 30, 29, 28, 27, 26, 25, 24, 23, 22, 21, 20, 19, 18, 17, 16,\n",
       "       15, 14, 13, 12, 11, 10,  9,  8,  7,  6,  5,  4,  3,  2,  1,  0])"
      ]
     },
     "execution_count": 11,
     "metadata": {},
     "output_type": "execute_result"
    }
   ],
   "source": [
    "# 4) Cambiar el orden de un vector de 50 elementos, el de la posicion 1 es el de la 50 etc.\n",
    "# vector_normal = [x for x in range(50)]\n",
    "vector_normal = np.arange(50)\n",
    "vector_invertido = np.flip(vector_normal)\n",
    "vector_invertido"
   ]
  },
  {
   "cell_type": "code",
   "execution_count": 13,
   "metadata": {},
   "outputs": [
    {
     "data": {
      "text/plain": [
       "array([[0, 1, 2],\n",
       "       [3, 4, 5],\n",
       "       [6, 7, 8]])"
      ]
     },
     "execution_count": 13,
     "metadata": {},
     "output_type": "execute_result"
    }
   ],
   "source": [
    "# 5) Crear una matriz de 3 x 3 con valores del cero al 8\n",
    "matriz_3x3 = np.arange(9).reshape((3, 3))\n",
    "matriz_3x3"
   ]
  },
  {
   "cell_type": "code",
   "execution_count": 39,
   "metadata": {},
   "outputs": [
    {
     "data": {
      "text/plain": [
       "(array([4]),)"
      ]
     },
     "execution_count": 39,
     "metadata": {},
     "output_type": "execute_result"
    }
   ],
   "source": [
    "# 6) Encontrar los indices que no sean cero en un arreglo\n",
    "np.where(vector_de_ceros != 0)\n"
   ]
  },
  {
   "cell_type": "code",
   "execution_count": 15,
   "metadata": {},
   "outputs": [
    {
     "data": {
      "text/plain": [
       "array([[1., 0., 0.],\n",
       "       [0., 1., 0.],\n",
       "       [0., 0., 1.]])"
      ]
     },
     "execution_count": 15,
     "metadata": {},
     "output_type": "execute_result"
    }
   ],
   "source": [
    "# 7) Crear una matriz de identidad 3 x 3\n",
    "matriz_identidad = np.identity(3)\n",
    "matriz_identidad"
   ]
  },
  {
   "cell_type": "code",
   "execution_count": 17,
   "metadata": {},
   "outputs": [
    {
     "data": {
      "text/plain": [
       "array([[[0.33127099, 0.8202995 , 0.96663422],\n",
       "        [0.37877842, 0.43468614, 0.31112273],\n",
       "        [0.13879658, 0.2854325 , 0.65907926]],\n",
       "\n",
       "       [[0.29229552, 0.97158667, 0.30000288],\n",
       "        [0.27107944, 0.14372955, 0.16716491],\n",
       "        [0.62294785, 0.49882776, 0.21287675]],\n",
       "\n",
       "       [[0.72988825, 0.80061199, 0.70378322],\n",
       "        [0.62557773, 0.85563257, 0.95453024],\n",
       "        [0.85372432, 0.5654634 , 0.05666741]]])"
      ]
     },
     "execution_count": 17,
     "metadata": {},
     "output_type": "execute_result"
    }
   ],
   "source": [
    "# 8) Crear una matriz 3 x 3 x 3 con valores randomicos\n",
    "matriz_randomica = np.random.rand(3, 3, 3)\n",
    "matriz_randomica"
   ]
  },
  {
   "cell_type": "code",
   "execution_count": 23,
   "metadata": {},
   "outputs": [
    {
     "data": {
      "text/plain": [
       "(0.986635234968758,\n",
       " 0.002774803302214912,\n",
       " array([[0.03023616, 0.45675401, 0.05878794, 0.97574152, 0.84660224,\n",
       "         0.8247978 , 0.8987089 , 0.63570903, 0.96688578, 0.67345626],\n",
       "        [0.4927529 , 0.95976995, 0.92031491, 0.52609814, 0.42193286,\n",
       "         0.05419422, 0.27952406, 0.13124718, 0.08470182, 0.55101304],\n",
       "        [0.87683135, 0.24670455, 0.82663008, 0.29047224, 0.64038643,\n",
       "         0.48290633, 0.40523225, 0.84841277, 0.36045839, 0.42940824],\n",
       "        [0.16777585, 0.40639807, 0.89810558, 0.94182928, 0.57668641,\n",
       "         0.1319134 , 0.63288954, 0.34296321, 0.91560126, 0.328177  ],\n",
       "        [0.03624576, 0.67531731, 0.46037889, 0.52272435, 0.28537045,\n",
       "         0.40935368, 0.48490179, 0.02073615, 0.61944256, 0.61475347],\n",
       "        [0.33036792, 0.60887406, 0.93178691, 0.47531775, 0.76352932,\n",
       "         0.41453604, 0.82759467, 0.13697233, 0.85417122, 0.58429363],\n",
       "        [0.79867299, 0.53906735, 0.07779568, 0.00531779, 0.96400129,\n",
       "         0.63431184, 0.82679241, 0.59338455, 0.63057022, 0.0027748 ],\n",
       "        [0.15598775, 0.16746942, 0.70542081, 0.34769605, 0.29141396,\n",
       "         0.87719063, 0.07131914, 0.46520795, 0.21793359, 0.22015502],\n",
       "        [0.48309306, 0.24586423, 0.95309487, 0.17593929, 0.98663523,\n",
       "         0.85965237, 0.49660332, 0.67377178, 0.840497  , 0.59160034],\n",
       "        [0.26240484, 0.00408481, 0.87133195, 0.95604529, 0.16220665,\n",
       "         0.08710139, 0.84821712, 0.06102003, 0.30597375, 0.80630219]]))"
      ]
     },
     "execution_count": 23,
     "metadata": {},
     "output_type": "execute_result"
    }
   ],
   "source": [
    "# 9) Crear una matriz 10 x 10 y encontrar el mayor y el menor\n",
    "matriz_1010  = np.random.rand(10, 10)\n",
    "matriz_1010.max(), matriz_1010.min(), matriz_1010"
   ]
  },
  {
   "cell_type": "code",
   "execution_count": null,
   "metadata": {},
   "outputs": [],
   "source": [
    "# 10) Sacar los colores RGB unicos en una imagen (cuales rgb existen ej: 0, 0, 0 - 255,255,255 -> 2 colores)\n",
    "\n",
    "from scipy import misc\n",
    "mapache = misc.face()\n",
    "\n",
    "#new_array = [tuple(row) for row in mapache]\n",
    "mapache\n",
    "# np.unique(new_array)"
   ]
  },
  {
   "cell_type": "code",
   "execution_count": 28,
   "metadata": {},
   "outputs": [
    {
     "data": {
      "text/plain": [
       "{'Lista': 0     a\n",
       " 1     b\n",
       " 2     c\n",
       " 3     e\n",
       " 4     d\n",
       " 5     f\n",
       " 6     g\n",
       " 7     h\n",
       " 8     i\n",
       " 9     j\n",
       " 10    k\n",
       " 11    l\n",
       " 12    m\n",
       " 13    n\n",
       " 14    o\n",
       " 15    p\n",
       " 16    q\n",
       " 17    r\n",
       " 18    s\n",
       " 19    t\n",
       " 20    u\n",
       " 21    v\n",
       " 22    w\n",
       " 23    x\n",
       " 24    y\n",
       " 25    z\n",
       " dtype: object, 'Arreglo': 0      0\n",
       " 1      1\n",
       " 2      2\n",
       " 3      3\n",
       " 4      4\n",
       " 5      5\n",
       " 6      6\n",
       " 7      7\n",
       " 8      8\n",
       " 9      9\n",
       " 10    10\n",
       " 11    11\n",
       " 12    12\n",
       " 13    13\n",
       " 14    14\n",
       " 15    15\n",
       " 16    16\n",
       " 17    17\n",
       " 18    18\n",
       " 19    19\n",
       " 20    20\n",
       " 21    21\n",
       " 22    22\n",
       " 23    23\n",
       " 24    24\n",
       " 25    25\n",
       " dtype: int64, 'Diccionaio': a     0\n",
       " b     1\n",
       " c     2\n",
       " e     3\n",
       " d     4\n",
       " f     5\n",
       " g     6\n",
       " h     7\n",
       " i     8\n",
       " j     9\n",
       " k    10\n",
       " l    11\n",
       " m    12\n",
       " n    13\n",
       " o    14\n",
       " p    15\n",
       " q    16\n",
       " r    17\n",
       " s    18\n",
       " t    19\n",
       " u    20\n",
       " v    21\n",
       " w    22\n",
       " x    23\n",
       " y    24\n",
       " z    25\n",
       " dtype: int64}"
      ]
     },
     "execution_count": 28,
     "metadata": {},
     "output_type": "execute_result"
    }
   ],
   "source": [
    "# 11) ¿Como crear una serie de una lista, diccionario o arreglo?\n",
    "mylist = list('abcedfghijklmnopqrstuvwxyz')\n",
    "myarr = np.arange(26)\n",
    "mydict = dict(zip(mylist, myarr))\n",
    "\n",
    "serie_from_list = pd.Series(mylist)\n",
    "serie_from_array = pd.Series(myarr)\n",
    "serie_from_dict = pd.Series(mydict)\n",
    "\n",
    "{'Lista': serie_from_list, 'Arreglo': serie_from_array, 'Diccionaio': serie_from_dict}\n"
   ]
  },
  {
   "cell_type": "code",
   "execution_count": 31,
   "metadata": {},
   "outputs": [
    {
     "data": {
      "text/html": [
       "<div>\n",
       "<style scoped>\n",
       "    .dataframe tbody tr th:only-of-type {\n",
       "        vertical-align: middle;\n",
       "    }\n",
       "\n",
       "    .dataframe tbody tr th {\n",
       "        vertical-align: top;\n",
       "    }\n",
       "\n",
       "    .dataframe thead th {\n",
       "        text-align: right;\n",
       "    }\n",
       "</style>\n",
       "<table border=\"1\" class=\"dataframe\">\n",
       "  <thead>\n",
       "    <tr style=\"text-align: right;\">\n",
       "      <th></th>\n",
       "      <th>index</th>\n",
       "      <th>0</th>\n",
       "    </tr>\n",
       "  </thead>\n",
       "  <tbody>\n",
       "    <tr>\n",
       "      <th>0</th>\n",
       "      <td>a</td>\n",
       "      <td>0</td>\n",
       "    </tr>\n",
       "    <tr>\n",
       "      <th>1</th>\n",
       "      <td>b</td>\n",
       "      <td>1</td>\n",
       "    </tr>\n",
       "    <tr>\n",
       "      <th>2</th>\n",
       "      <td>c</td>\n",
       "      <td>2</td>\n",
       "    </tr>\n",
       "    <tr>\n",
       "      <th>3</th>\n",
       "      <td>e</td>\n",
       "      <td>3</td>\n",
       "    </tr>\n",
       "    <tr>\n",
       "      <th>4</th>\n",
       "      <td>d</td>\n",
       "      <td>4</td>\n",
       "    </tr>\n",
       "    <tr>\n",
       "      <th>5</th>\n",
       "      <td>f</td>\n",
       "      <td>5</td>\n",
       "    </tr>\n",
       "    <tr>\n",
       "      <th>6</th>\n",
       "      <td>g</td>\n",
       "      <td>6</td>\n",
       "    </tr>\n",
       "    <tr>\n",
       "      <th>7</th>\n",
       "      <td>h</td>\n",
       "      <td>7</td>\n",
       "    </tr>\n",
       "    <tr>\n",
       "      <th>8</th>\n",
       "      <td>i</td>\n",
       "      <td>8</td>\n",
       "    </tr>\n",
       "    <tr>\n",
       "      <th>9</th>\n",
       "      <td>j</td>\n",
       "      <td>9</td>\n",
       "    </tr>\n",
       "    <tr>\n",
       "      <th>10</th>\n",
       "      <td>k</td>\n",
       "      <td>10</td>\n",
       "    </tr>\n",
       "    <tr>\n",
       "      <th>11</th>\n",
       "      <td>l</td>\n",
       "      <td>11</td>\n",
       "    </tr>\n",
       "    <tr>\n",
       "      <th>12</th>\n",
       "      <td>m</td>\n",
       "      <td>12</td>\n",
       "    </tr>\n",
       "    <tr>\n",
       "      <th>13</th>\n",
       "      <td>n</td>\n",
       "      <td>13</td>\n",
       "    </tr>\n",
       "    <tr>\n",
       "      <th>14</th>\n",
       "      <td>o</td>\n",
       "      <td>14</td>\n",
       "    </tr>\n",
       "    <tr>\n",
       "      <th>15</th>\n",
       "      <td>p</td>\n",
       "      <td>15</td>\n",
       "    </tr>\n",
       "    <tr>\n",
       "      <th>16</th>\n",
       "      <td>q</td>\n",
       "      <td>16</td>\n",
       "    </tr>\n",
       "    <tr>\n",
       "      <th>17</th>\n",
       "      <td>r</td>\n",
       "      <td>17</td>\n",
       "    </tr>\n",
       "    <tr>\n",
       "      <th>18</th>\n",
       "      <td>s</td>\n",
       "      <td>18</td>\n",
       "    </tr>\n",
       "    <tr>\n",
       "      <th>19</th>\n",
       "      <td>t</td>\n",
       "      <td>19</td>\n",
       "    </tr>\n",
       "    <tr>\n",
       "      <th>20</th>\n",
       "      <td>u</td>\n",
       "      <td>20</td>\n",
       "    </tr>\n",
       "    <tr>\n",
       "      <th>21</th>\n",
       "      <td>v</td>\n",
       "      <td>21</td>\n",
       "    </tr>\n",
       "    <tr>\n",
       "      <th>22</th>\n",
       "      <td>w</td>\n",
       "      <td>22</td>\n",
       "    </tr>\n",
       "    <tr>\n",
       "      <th>23</th>\n",
       "      <td>x</td>\n",
       "      <td>23</td>\n",
       "    </tr>\n",
       "    <tr>\n",
       "      <th>24</th>\n",
       "      <td>y</td>\n",
       "      <td>24</td>\n",
       "    </tr>\n",
       "    <tr>\n",
       "      <th>25</th>\n",
       "      <td>z</td>\n",
       "      <td>25</td>\n",
       "    </tr>\n",
       "  </tbody>\n",
       "</table>\n",
       "</div>"
      ],
      "text/plain": [
       "   index   0\n",
       "0      a   0\n",
       "1      b   1\n",
       "2      c   2\n",
       "3      e   3\n",
       "4      d   4\n",
       "5      f   5\n",
       "6      g   6\n",
       "7      h   7\n",
       "8      i   8\n",
       "9      j   9\n",
       "10     k  10\n",
       "11     l  11\n",
       "12     m  12\n",
       "13     n  13\n",
       "14     o  14\n",
       "15     p  15\n",
       "16     q  16\n",
       "17     r  17\n",
       "18     s  18\n",
       "19     t  19\n",
       "20     u  20\n",
       "21     v  21\n",
       "22     w  22\n",
       "23     x  23\n",
       "24     y  24\n",
       "25     z  25"
      ]
     },
     "execution_count": 31,
     "metadata": {},
     "output_type": "execute_result"
    }
   ],
   "source": [
    "# 12) ¿Como convertir el indice de una serie en una columna de un DataFrame?\n",
    "mylist = list('abcedfghijklmnopqrstuvwxyz')\n",
    "myarr = np.arange(26)\n",
    "mydict = dict(zip(mylist, myarr))\n",
    "ser = pd.Series(mydict)\n",
    "# Transformar la serie en dataframe y hacer una columna indice\n",
    "\n",
    "dataframe_from_serie = ser.to_frame().reset_index()\n",
    "dataframe_from_serie"
   ]
  },
  {
   "cell_type": "code",
   "execution_count": 33,
   "metadata": {},
   "outputs": [
    {
     "data": {
      "text/html": [
       "<div>\n",
       "<style scoped>\n",
       "    .dataframe tbody tr th:only-of-type {\n",
       "        vertical-align: middle;\n",
       "    }\n",
       "\n",
       "    .dataframe tbody tr th {\n",
       "        vertical-align: top;\n",
       "    }\n",
       "\n",
       "    .dataframe thead th {\n",
       "        text-align: right;\n",
       "    }\n",
       "</style>\n",
       "<table border=\"1\" class=\"dataframe\">\n",
       "  <thead>\n",
       "    <tr style=\"text-align: right;\">\n",
       "      <th></th>\n",
       "      <th>ser1</th>\n",
       "      <th>ser2</th>\n",
       "    </tr>\n",
       "  </thead>\n",
       "  <tbody>\n",
       "    <tr>\n",
       "      <th>0</th>\n",
       "      <td>a</td>\n",
       "      <td>0</td>\n",
       "    </tr>\n",
       "    <tr>\n",
       "      <th>1</th>\n",
       "      <td>b</td>\n",
       "      <td>1</td>\n",
       "    </tr>\n",
       "    <tr>\n",
       "      <th>2</th>\n",
       "      <td>c</td>\n",
       "      <td>2</td>\n",
       "    </tr>\n",
       "    <tr>\n",
       "      <th>3</th>\n",
       "      <td>e</td>\n",
       "      <td>3</td>\n",
       "    </tr>\n",
       "    <tr>\n",
       "      <th>4</th>\n",
       "      <td>d</td>\n",
       "      <td>4</td>\n",
       "    </tr>\n",
       "    <tr>\n",
       "      <th>5</th>\n",
       "      <td>f</td>\n",
       "      <td>5</td>\n",
       "    </tr>\n",
       "    <tr>\n",
       "      <th>6</th>\n",
       "      <td>g</td>\n",
       "      <td>6</td>\n",
       "    </tr>\n",
       "    <tr>\n",
       "      <th>7</th>\n",
       "      <td>h</td>\n",
       "      <td>7</td>\n",
       "    </tr>\n",
       "    <tr>\n",
       "      <th>8</th>\n",
       "      <td>i</td>\n",
       "      <td>8</td>\n",
       "    </tr>\n",
       "    <tr>\n",
       "      <th>9</th>\n",
       "      <td>j</td>\n",
       "      <td>9</td>\n",
       "    </tr>\n",
       "    <tr>\n",
       "      <th>10</th>\n",
       "      <td>k</td>\n",
       "      <td>10</td>\n",
       "    </tr>\n",
       "    <tr>\n",
       "      <th>11</th>\n",
       "      <td>l</td>\n",
       "      <td>11</td>\n",
       "    </tr>\n",
       "    <tr>\n",
       "      <th>12</th>\n",
       "      <td>m</td>\n",
       "      <td>12</td>\n",
       "    </tr>\n",
       "    <tr>\n",
       "      <th>13</th>\n",
       "      <td>n</td>\n",
       "      <td>13</td>\n",
       "    </tr>\n",
       "    <tr>\n",
       "      <th>14</th>\n",
       "      <td>o</td>\n",
       "      <td>14</td>\n",
       "    </tr>\n",
       "    <tr>\n",
       "      <th>15</th>\n",
       "      <td>p</td>\n",
       "      <td>15</td>\n",
       "    </tr>\n",
       "    <tr>\n",
       "      <th>16</th>\n",
       "      <td>q</td>\n",
       "      <td>16</td>\n",
       "    </tr>\n",
       "    <tr>\n",
       "      <th>17</th>\n",
       "      <td>r</td>\n",
       "      <td>17</td>\n",
       "    </tr>\n",
       "    <tr>\n",
       "      <th>18</th>\n",
       "      <td>s</td>\n",
       "      <td>18</td>\n",
       "    </tr>\n",
       "    <tr>\n",
       "      <th>19</th>\n",
       "      <td>t</td>\n",
       "      <td>19</td>\n",
       "    </tr>\n",
       "    <tr>\n",
       "      <th>20</th>\n",
       "      <td>u</td>\n",
       "      <td>20</td>\n",
       "    </tr>\n",
       "    <tr>\n",
       "      <th>21</th>\n",
       "      <td>v</td>\n",
       "      <td>21</td>\n",
       "    </tr>\n",
       "    <tr>\n",
       "      <th>22</th>\n",
       "      <td>w</td>\n",
       "      <td>22</td>\n",
       "    </tr>\n",
       "    <tr>\n",
       "      <th>23</th>\n",
       "      <td>x</td>\n",
       "      <td>23</td>\n",
       "    </tr>\n",
       "    <tr>\n",
       "      <th>24</th>\n",
       "      <td>y</td>\n",
       "      <td>24</td>\n",
       "    </tr>\n",
       "    <tr>\n",
       "      <th>25</th>\n",
       "      <td>z</td>\n",
       "      <td>25</td>\n",
       "    </tr>\n",
       "  </tbody>\n",
       "</table>\n",
       "</div>"
      ],
      "text/plain": [
       "   ser1  ser2\n",
       "0     a     0\n",
       "1     b     1\n",
       "2     c     2\n",
       "3     e     3\n",
       "4     d     4\n",
       "5     f     5\n",
       "6     g     6\n",
       "7     h     7\n",
       "8     i     8\n",
       "9     j     9\n",
       "10    k    10\n",
       "11    l    11\n",
       "12    m    12\n",
       "13    n    13\n",
       "14    o    14\n",
       "15    p    15\n",
       "16    q    16\n",
       "17    r    17\n",
       "18    s    18\n",
       "19    t    19\n",
       "20    u    20\n",
       "21    v    21\n",
       "22    w    22\n",
       "23    x    23\n",
       "24    y    24\n",
       "25    z    25"
      ]
     },
     "execution_count": 33,
     "metadata": {},
     "output_type": "execute_result"
    }
   ],
   "source": [
    "# 13) ¿Como combinar varias series para hacer un DataFrame?\n",
    "ser1 = pd.Series(list('abcedfghijklmnopqrstuvwxyz'))\n",
    "ser2 = pd.Series(np.arange(26))\n",
    "\n",
    "dataframe_from_2series = pd.DataFrame(dict(ser1=ser1, ser2=ser2))\n",
    "dataframe_from_2series\n"
   ]
  },
  {
   "cell_type": "code",
   "execution_count": 37,
   "metadata": {},
   "outputs": [
    {
     "data": {
      "text/plain": [
       "0    1\n",
       "1    2\n",
       "2    3\n",
       "3    4\n",
       "4    5\n",
       "0    4\n",
       "1    5\n",
       "2    6\n",
       "3    7\n",
       "4    8\n",
       "dtype: int64"
      ]
     },
     "execution_count": 37,
     "metadata": {},
     "output_type": "execute_result"
    }
   ],
   "source": [
    "# 14) ¿Como obtener los items que esten en una serie A y no en una serie B?\n",
    "ser1 = pd.Series([1, 2, 3, 4, 5])\n",
    "ser2 = pd.Series([4, 5, 6, 7, 8])\n",
    "serie_excluida = ser1.append(ser2)\n",
    "serie_excluida"
   ]
  },
  {
   "cell_type": "code",
   "execution_count": null,
   "metadata": {},
   "outputs": [],
   "source": [
    "# 15) ¿Como obtener los items que no son comunes en una serie A y serie B?\n",
    "ser1 = pd.Series([1, 2, 3, 4, 5])\n",
    "ser2 = pd.Series([4, 5, 6, 7, 8])\n"
   ]
  },
  {
   "cell_type": "code",
   "execution_count": null,
   "metadata": {},
   "outputs": [],
   "source": [
    "# 16) ¿Como obtener el numero de veces que se repite un valor en una serie?\n",
    "ser = pd.Series(np.take(list('abcdefgh'), np.random.randint(8, size=30)))"
   ]
  },
  {
   "cell_type": "code",
   "execution_count": null,
   "metadata": {},
   "outputs": [],
   "source": [
    "# 17) ¿Como mantener los 2 valores mas repetidos de una serie, y a los demas valores cambiarles por 0 ?\n",
    "np.random.RandomState(100)\n",
    "ser = pd.Series(np.random.randint(1, 5, [12]))\n"
   ]
  },
  {
   "cell_type": "code",
   "execution_count": null,
   "metadata": {},
   "outputs": [],
   "source": [
    "# 18) ¿Como transformar una serie de un arreglo de numpy a un DataFrame con un shape definido?\n",
    "ser = pd.Series(np.random.randint(1, 10, 35))\n",
    "shape(7,5)"
   ]
  },
  {
   "cell_type": "code",
   "execution_count": null,
   "metadata": {},
   "outputs": [],
   "source": [
    "# 19) ¿Obtener los valores de una serie conociendo la posicion por indice?\n",
    "ser = pd.Series(list('abcdefghijklmnopqrstuvwxyz'))\n",
    "pos = [0, 4, 8, 14, 20]\n",
    "# a e i o u"
   ]
  },
  {
   "cell_type": "code",
   "execution_count": null,
   "metadata": {},
   "outputs": [],
   "source": [
    "# 20) ¿Como anadir series vertical u horizontalmente a un DataFrame?\n",
    "ser1 = pd.Series(range(5))\n",
    "ser2 = pd.Series(list('abcde'))"
   ]
  },
  {
   "cell_type": "code",
   "execution_count": null,
   "metadata": {},
   "outputs": [],
   "source": [
    "# 21)¿Obtener la media de una serie agrupada por otra serie?\n",
    "frutas = pd.Series(np.random.choice(['manzana', 'banana', 'zanahoria'], 10))\n",
    "pesos = pd.Series(np.linspace(1, 10, 10))\n",
    "print(pesos.tolist())\n",
    "print(frutas.tolist())\n",
    "#> [1.0, 2.0, 3.0, 4.0, 5.0, 6.0, 7.0, 8.0, 9.0, 10.0]\n",
    "#> ['banana', 'carrot', 'apple', 'carrot', 'carrot', 'apple', 'banana', 'carrot', 'apple', 'carrot']\n",
    "\n",
    "# Los valores van a cambiar por ser random\n",
    "# apple     6.0\n",
    "# banana    4.0\n",
    "# carrot    5.8\n",
    "# dtype: float64\n",
    "\n"
   ]
  },
  {
   "cell_type": "code",
   "execution_count": null,
   "metadata": {},
   "outputs": [],
   "source": [
    "# 22)¿Como importar solo columnas especificas de un archivo csv?\n",
    "# https://raw.githubusercontent.com/selva86/datasets/master/BostonHousing.csv"
   ]
  },
  {
   "cell_type": "code",
   "execution_count": null,
   "metadata": {},
   "outputs": [],
   "source": []
  },
  {
   "cell_type": "code",
   "execution_count": null,
   "metadata": {},
   "outputs": [],
   "source": []
  },
  {
   "cell_type": "code",
   "execution_count": null,
   "metadata": {},
   "outputs": [],
   "source": []
  }
 ],
 "metadata": {
  "kernelspec": {
   "display_name": "Python 3",
   "language": "python",
   "name": "python3"
  },
  "language_info": {
   "codemirror_mode": {
    "name": "ipython",
    "version": 3
   },
   "file_extension": ".py",
   "mimetype": "text/x-python",
   "name": "python",
   "nbconvert_exporter": "python",
   "pygments_lexer": "ipython3",
   "version": "3.7.0"
  }
 },
 "nbformat": 4,
 "nbformat_minor": 2
}
