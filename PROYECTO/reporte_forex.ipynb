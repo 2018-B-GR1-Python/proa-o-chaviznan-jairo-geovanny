{
 "cells": [
  {
   "cell_type": "code",
   "execution_count": 1,
   "metadata": {},
   "outputs": [],
   "source": [
    "import numpy as np\n",
    "import pandas as pd\n",
    "import matplotlib\n",
    "import matplotlib.pyplot as plt"
   ]
  },
  {
   "cell_type": "code",
   "execution_count": 2,
   "metadata": {},
   "outputs": [],
   "source": [
    "dataframe = pd.read_csv(\"EURUSD_Ticks_26.11.2018-26.11.2018.csv\")"
   ]
  },
  {
   "cell_type": "code",
   "execution_count": 3,
   "metadata": {},
   "outputs": [
    {
     "data": {
      "text/html": [
       "<div>\n",
       "<style scoped>\n",
       "    .dataframe tbody tr th:only-of-type {\n",
       "        vertical-align: middle;\n",
       "    }\n",
       "\n",
       "    .dataframe tbody tr th {\n",
       "        vertical-align: top;\n",
       "    }\n",
       "\n",
       "    .dataframe thead th {\n",
       "        text-align: right;\n",
       "    }\n",
       "</style>\n",
       "<table border=\"1\" class=\"dataframe\">\n",
       "  <thead>\n",
       "    <tr style=\"text-align: right;\">\n",
       "      <th></th>\n",
       "      <th>Local time</th>\n",
       "      <th>Ask</th>\n",
       "      <th>Bid</th>\n",
       "      <th>AskVolume</th>\n",
       "      <th>BidVolume</th>\n",
       "    </tr>\n",
       "  </thead>\n",
       "  <tbody>\n",
       "    <tr>\n",
       "      <th>88490</th>\n",
       "      <td>26.11.2018 23:59:50.430 GMT-0500</td>\n",
       "      <td>1.13375</td>\n",
       "      <td>1.13371</td>\n",
       "      <td>9.56</td>\n",
       "      <td>1.12</td>\n",
       "    </tr>\n",
       "    <tr>\n",
       "      <th>88491</th>\n",
       "      <td>26.11.2018 23:59:52.215 GMT-0500</td>\n",
       "      <td>1.13375</td>\n",
       "      <td>1.13370</td>\n",
       "      <td>6.32</td>\n",
       "      <td>3.82</td>\n",
       "    </tr>\n",
       "    <tr>\n",
       "      <th>88492</th>\n",
       "      <td>26.11.2018 23:59:52.743 GMT-0500</td>\n",
       "      <td>1.13374</td>\n",
       "      <td>1.13370</td>\n",
       "      <td>4.69</td>\n",
       "      <td>2.44</td>\n",
       "    </tr>\n",
       "    <tr>\n",
       "      <th>88493</th>\n",
       "      <td>26.11.2018 23:59:54.765 GMT-0500</td>\n",
       "      <td>1.13373</td>\n",
       "      <td>1.13369</td>\n",
       "      <td>2.44</td>\n",
       "      <td>3.37</td>\n",
       "    </tr>\n",
       "    <tr>\n",
       "      <th>88494</th>\n",
       "      <td>26.11.2018 23:59:57.252 GMT-0500</td>\n",
       "      <td>1.13374</td>\n",
       "      <td>1.13372</td>\n",
       "      <td>1.25</td>\n",
       "      <td>1.50</td>\n",
       "    </tr>\n",
       "  </tbody>\n",
       "</table>\n",
       "</div>"
      ],
      "text/plain": [
       "                             Local time      Ask      Bid  AskVolume  \\\n",
       "88490  26.11.2018 23:59:50.430 GMT-0500  1.13375  1.13371       9.56   \n",
       "88491  26.11.2018 23:59:52.215 GMT-0500  1.13375  1.13370       6.32   \n",
       "88492  26.11.2018 23:59:52.743 GMT-0500  1.13374  1.13370       4.69   \n",
       "88493  26.11.2018 23:59:54.765 GMT-0500  1.13373  1.13369       2.44   \n",
       "88494  26.11.2018 23:59:57.252 GMT-0500  1.13374  1.13372       1.25   \n",
       "\n",
       "       BidVolume  \n",
       "88490       1.12  \n",
       "88491       3.82  \n",
       "88492       2.44  \n",
       "88493       3.37  \n",
       "88494       1.50  "
      ]
     },
     "execution_count": 3,
     "metadata": {},
     "output_type": "execute_result"
    }
   ],
   "source": [
    "dataframe.tail()"
   ]
  },
  {
   "cell_type": "code",
   "execution_count": 4,
   "metadata": {},
   "outputs": [],
   "source": [
    "df_ask = dataframe[[\"Local time\", \"Ask\", \"AskVolume\"]]\n",
    "# df_ask.set_index(\"Local time\", inplace=True)"
   ]
  },
  {
   "cell_type": "code",
   "execution_count": 5,
   "metadata": {},
   "outputs": [
    {
     "data": {
      "text/html": [
       "<div>\n",
       "<style scoped>\n",
       "    .dataframe tbody tr th:only-of-type {\n",
       "        vertical-align: middle;\n",
       "    }\n",
       "\n",
       "    .dataframe tbody tr th {\n",
       "        vertical-align: top;\n",
       "    }\n",
       "\n",
       "    .dataframe thead th {\n",
       "        text-align: right;\n",
       "    }\n",
       "</style>\n",
       "<table border=\"1\" class=\"dataframe\">\n",
       "  <thead>\n",
       "    <tr style=\"text-align: right;\">\n",
       "      <th></th>\n",
       "      <th>Local time</th>\n",
       "      <th>Ask</th>\n",
       "      <th>AskVolume</th>\n",
       "    </tr>\n",
       "  </thead>\n",
       "  <tbody>\n",
       "    <tr>\n",
       "      <th>0</th>\n",
       "      <td>26.11.2018 00:00:00.439 GMT-0500</td>\n",
       "      <td>1.13456</td>\n",
       "      <td>1.00</td>\n",
       "    </tr>\n",
       "    <tr>\n",
       "      <th>1</th>\n",
       "      <td>26.11.2018 00:00:00.760 GMT-0500</td>\n",
       "      <td>1.13454</td>\n",
       "      <td>1.00</td>\n",
       "    </tr>\n",
       "    <tr>\n",
       "      <th>2</th>\n",
       "      <td>26.11.2018 00:00:01.307 GMT-0500</td>\n",
       "      <td>1.13454</td>\n",
       "      <td>1.25</td>\n",
       "    </tr>\n",
       "    <tr>\n",
       "      <th>3</th>\n",
       "      <td>26.11.2018 00:00:01.580 GMT-0500</td>\n",
       "      <td>1.13456</td>\n",
       "      <td>2.06</td>\n",
       "    </tr>\n",
       "    <tr>\n",
       "      <th>4</th>\n",
       "      <td>26.11.2018 00:00:02.158 GMT-0500</td>\n",
       "      <td>1.13455</td>\n",
       "      <td>2.81</td>\n",
       "    </tr>\n",
       "  </tbody>\n",
       "</table>\n",
       "</div>"
      ],
      "text/plain": [
       "                         Local time      Ask  AskVolume\n",
       "0  26.11.2018 00:00:00.439 GMT-0500  1.13456       1.00\n",
       "1  26.11.2018 00:00:00.760 GMT-0500  1.13454       1.00\n",
       "2  26.11.2018 00:00:01.307 GMT-0500  1.13454       1.25\n",
       "3  26.11.2018 00:00:01.580 GMT-0500  1.13456       2.06\n",
       "4  26.11.2018 00:00:02.158 GMT-0500  1.13455       2.81"
      ]
     },
     "execution_count": 5,
     "metadata": {},
     "output_type": "execute_result"
    }
   ],
   "source": [
    "df_ask.head()"
   ]
  },
  {
   "cell_type": "code",
   "execution_count": 6,
   "metadata": {},
   "outputs": [],
   "source": [
    "df_bid = dataframe[[\"Local time\", \"Bid\", \"BidVolume\"]]\n",
    "# df_bid.set_index(\"Local time\", inplace=True)"
   ]
  },
  {
   "cell_type": "code",
   "execution_count": 7,
   "metadata": {},
   "outputs": [
    {
     "data": {
      "text/html": [
       "<div>\n",
       "<style scoped>\n",
       "    .dataframe tbody tr th:only-of-type {\n",
       "        vertical-align: middle;\n",
       "    }\n",
       "\n",
       "    .dataframe tbody tr th {\n",
       "        vertical-align: top;\n",
       "    }\n",
       "\n",
       "    .dataframe thead th {\n",
       "        text-align: right;\n",
       "    }\n",
       "</style>\n",
       "<table border=\"1\" class=\"dataframe\">\n",
       "  <thead>\n",
       "    <tr style=\"text-align: right;\">\n",
       "      <th></th>\n",
       "      <th>Local time</th>\n",
       "      <th>Bid</th>\n",
       "      <th>BidVolume</th>\n",
       "    </tr>\n",
       "  </thead>\n",
       "  <tbody>\n",
       "    <tr>\n",
       "      <th>0</th>\n",
       "      <td>26.11.2018 00:00:00.439 GMT-0500</td>\n",
       "      <td>1.13454</td>\n",
       "      <td>1.00</td>\n",
       "    </tr>\n",
       "    <tr>\n",
       "      <th>1</th>\n",
       "      <td>26.11.2018 00:00:00.760 GMT-0500</td>\n",
       "      <td>1.13452</td>\n",
       "      <td>1.57</td>\n",
       "    </tr>\n",
       "    <tr>\n",
       "      <th>2</th>\n",
       "      <td>26.11.2018 00:00:01.307 GMT-0500</td>\n",
       "      <td>1.13451</td>\n",
       "      <td>1.69</td>\n",
       "    </tr>\n",
       "    <tr>\n",
       "      <th>3</th>\n",
       "      <td>26.11.2018 00:00:01.580 GMT-0500</td>\n",
       "      <td>1.13451</td>\n",
       "      <td>4.20</td>\n",
       "    </tr>\n",
       "    <tr>\n",
       "      <th>4</th>\n",
       "      <td>26.11.2018 00:00:02.158 GMT-0500</td>\n",
       "      <td>1.13452</td>\n",
       "      <td>1.69</td>\n",
       "    </tr>\n",
       "  </tbody>\n",
       "</table>\n",
       "</div>"
      ],
      "text/plain": [
       "                         Local time      Bid  BidVolume\n",
       "0  26.11.2018 00:00:00.439 GMT-0500  1.13454       1.00\n",
       "1  26.11.2018 00:00:00.760 GMT-0500  1.13452       1.57\n",
       "2  26.11.2018 00:00:01.307 GMT-0500  1.13451       1.69\n",
       "3  26.11.2018 00:00:01.580 GMT-0500  1.13451       4.20\n",
       "4  26.11.2018 00:00:02.158 GMT-0500  1.13452       1.69"
      ]
     },
     "execution_count": 7,
     "metadata": {},
     "output_type": "execute_result"
    }
   ],
   "source": [
    "df_bid.head()"
   ]
  },
  {
   "cell_type": "code",
   "execution_count": 8,
   "metadata": {},
   "outputs": [
    {
     "data": {
      "image/png": "[encoded data removed]",
      "text/plain": [
       "<Figure size 432x288 with 1 Axes>"
      ]
     },
     "metadata": {
      "needs_background": "light"
     },
     "output_type": "display_data"
    }
   ],
   "source": [
    "fig, ax = plt.subplots()\n",
    "ax.plot(df_ask.index.values, df_ask[\"Ask\"], df_bid.index.values, df_bid[\"Bid\"])\n",
    "ax.set(xlabel='Local time', ylabel='Currency)',\n",
    "       title='Tiempo vs Valor')\n",
    "ax.grid()\n",
    "fig.savefig(\"test.png\")\n",
    "plt.show()"
   ]
  },
  {
   "cell_type": "code",
   "execution_count": 9,
   "metadata": {},
   "outputs": [
    {
     "data": {
      "image/png": "[encoded data removed]",
      "text/plain": [
       "<Figure size 432x288 with 1 Axes>"
      ]
     },
     "metadata": {
      "needs_background": "light"
     },
     "output_type": "display_data"
    }
   ],
   "source": [
    "fig, ax = plt.subplots()\n",
    "ax.plot(df_ask.index.values, df_ask[\"AskVolume\"], df_bid.index, df_bid[\"BidVolume\"])\n",
    "# ax.plot(df_bid.index, df_bid[\"Bid\"])\n",
    "ax.set(xlabel='Local time', ylabel='Volumen)',\n",
    "       title='Tiempo vs Voumen')\n",
    "ax.grid()\n",
    "fig.savefig(\"test2.png\")\n",
    "plt.show()"
   ]
  },
  {
   "cell_type": "code",
   "execution_count": null,
   "metadata": {},
   "outputs": [],
   "source": []
  },
  {
   "cell_type": "code",
   "execution_count": null,
   "metadata": {},
   "outputs": [],
   "source": []
  },
  {
   "cell_type": "code",
   "execution_count": null,
   "metadata": {},
   "outputs": [],
   "source": []
  },
  {
   "cell_type": "code",
   "execution_count": null,
   "metadata": {},
   "outputs": [],
   "source": []
  },
  {
   "cell_type": "code",
   "execution_count": null,
   "metadata": {},
   "outputs": [],
   "source": []
  }
 ],
 "metadata": {
  "kernelspec": {
   "display_name": "Python 3",
   "language": "python",
   "name": "python3"
  },
  "language_info": {
   "codemirror_mode": {
    "name": "ipython",
    "version": 3
   },
   "file_extension": ".py",
   "mimetype": "text/x-python",
   "name": "python",
   "nbconvert_exporter": "python",
   "pygments_lexer": "ipython3",
   "version": "3.7.0"
  }
 },
 "nbformat": 4,
 "nbformat_minor": 2
}
