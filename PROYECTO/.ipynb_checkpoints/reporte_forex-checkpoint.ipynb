{
 "cells": [
  {
   "cell_type": "code",
   "execution_count": 2,
   "metadata": {},
   "outputs": [],
   "source": [
    "import pandas as pd\n",
    "import matplotlib\n",
    "import matplotlib.pyplot as plt"
   ]
  },
  {
   "cell_type": "code",
   "execution_count": 3,
   "metadata": {},
   "outputs": [],
   "source": [
    "dataframe = pd.read_csv(\"EURUSD_Ticks_26.11.2018-26.11.2018.csv\")"
   ]
  },
  {
   "cell_type": "code",
   "execution_count": 4,
   "metadata": {},
   "outputs": [
    {
     "data": {
      "text/html": [
       "<div>\n",
       "<style scoped>\n",
       "    .dataframe tbody tr th:only-of-type {\n",
       "        vertical-align: middle;\n",
       "    }\n",
       "\n",
       "    .dataframe tbody tr th {\n",
       "        vertical-align: top;\n",
       "    }\n",
       "\n",
       "    .dataframe thead th {\n",
       "        text-align: right;\n",
       "    }\n",
       "</style>\n",
       "<table border=\"1\" class=\"dataframe\">\n",
       "  <thead>\n",
       "    <tr style=\"text-align: right;\">\n",
       "      <th></th>\n",
       "      <th>Local time</th>\n",
       "      <th>Ask</th>\n",
       "      <th>Bid</th>\n",
       "      <th>AskVolume</th>\n",
       "      <th>BidVolume</th>\n",
       "    </tr>\n",
       "  </thead>\n",
       "  <tbody>\n",
       "    <tr>\n",
       "      <th>0</th>\n",
       "      <td>26.11.2018 00:00:00.439 GMT-0500</td>\n",
       "      <td>1.13456</td>\n",
       "      <td>1.13454</td>\n",
       "      <td>1.00</td>\n",
       "      <td>1.00</td>\n",
       "    </tr>\n",
       "    <tr>\n",
       "      <th>1</th>\n",
       "      <td>26.11.2018 00:00:00.760 GMT-0500</td>\n",
       "      <td>1.13454</td>\n",
       "      <td>1.13452</td>\n",
       "      <td>1.00</td>\n",
       "      <td>1.57</td>\n",
       "    </tr>\n",
       "    <tr>\n",
       "      <th>2</th>\n",
       "      <td>26.11.2018 00:00:01.307 GMT-0500</td>\n",
       "      <td>1.13454</td>\n",
       "      <td>1.13451</td>\n",
       "      <td>1.25</td>\n",
       "      <td>1.69</td>\n",
       "    </tr>\n",
       "    <tr>\n",
       "      <th>3</th>\n",
       "      <td>26.11.2018 00:00:01.580 GMT-0500</td>\n",
       "      <td>1.13456</td>\n",
       "      <td>1.13451</td>\n",
       "      <td>2.06</td>\n",
       "      <td>4.20</td>\n",
       "    </tr>\n",
       "    <tr>\n",
       "      <th>4</th>\n",
       "      <td>26.11.2018 00:00:02.158 GMT-0500</td>\n",
       "      <td>1.13455</td>\n",
       "      <td>1.13452</td>\n",
       "      <td>2.81</td>\n",
       "      <td>1.69</td>\n",
       "    </tr>\n",
       "  </tbody>\n",
       "</table>\n",
       "</div>"
      ],
      "text/plain": [
       "                         Local time      Ask      Bid  AskVolume  BidVolume\n",
       "0  26.11.2018 00:00:00.439 GMT-0500  1.13456  1.13454       1.00       1.00\n",
       "1  26.11.2018 00:00:00.760 GMT-0500  1.13454  1.13452       1.00       1.57\n",
       "2  26.11.2018 00:00:01.307 GMT-0500  1.13454  1.13451       1.25       1.69\n",
       "3  26.11.2018 00:00:01.580 GMT-0500  1.13456  1.13451       2.06       4.20\n",
       "4  26.11.2018 00:00:02.158 GMT-0500  1.13455  1.13452       2.81       1.69"
      ]
     },
     "execution_count": 4,
     "metadata": {},
     "output_type": "execute_result"
    }
   ],
   "source": [
    "dataframe.head()"
   ]
  },
  {
   "cell_type": "code",
   "execution_count": null,
   "metadata": {},
   "outputs": [],
   "source": [
    "df_ask = dataframe[[\"Local time\", \"Ask\", \"AskVolume\"]]\n",
    "df_ask[\"Local time\"] = pd.to_datetime(df_ask[\"Local time\"], errors=\"coerce\")"
   ]
  },
  {
   "cell_type": "code",
   "execution_count": 6,
   "metadata": {},
   "outputs": [
    {
     "data": {
      "text/html": [
       "<div>\n",
       "<style scoped>\n",
       "    .dataframe tbody tr th:only-of-type {\n",
       "        vertical-align: middle;\n",
       "    }\n",
       "\n",
       "    .dataframe tbody tr th {\n",
       "        vertical-align: top;\n",
       "    }\n",
       "\n",
       "    .dataframe thead th {\n",
       "        text-align: right;\n",
       "    }\n",
       "</style>\n",
       "<table border=\"1\" class=\"dataframe\">\n",
       "  <thead>\n",
       "    <tr style=\"text-align: right;\">\n",
       "      <th></th>\n",
       "      <th>Local time</th>\n",
       "      <th>Ask</th>\n",
       "      <th>AskVolume</th>\n",
       "    </tr>\n",
       "  </thead>\n",
       "  <tbody>\n",
       "    <tr>\n",
       "      <th>0</th>\n",
       "      <td>26.11.2018 00:00:00.439 GMT-0500</td>\n",
       "      <td>1.13456</td>\n",
       "      <td>1.00</td>\n",
       "    </tr>\n",
       "    <tr>\n",
       "      <th>1</th>\n",
       "      <td>26.11.2018 00:00:00.760 GMT-0500</td>\n",
       "      <td>1.13454</td>\n",
       "      <td>1.00</td>\n",
       "    </tr>\n",
       "    <tr>\n",
       "      <th>2</th>\n",
       "      <td>26.11.2018 00:00:01.307 GMT-0500</td>\n",
       "      <td>1.13454</td>\n",
       "      <td>1.25</td>\n",
       "    </tr>\n",
       "    <tr>\n",
       "      <th>3</th>\n",
       "      <td>26.11.2018 00:00:01.580 GMT-0500</td>\n",
       "      <td>1.13456</td>\n",
       "      <td>2.06</td>\n",
       "    </tr>\n",
       "    <tr>\n",
       "      <th>4</th>\n",
       "      <td>26.11.2018 00:00:02.158 GMT-0500</td>\n",
       "      <td>1.13455</td>\n",
       "      <td>2.81</td>\n",
       "    </tr>\n",
       "  </tbody>\n",
       "</table>\n",
       "</div>"
      ],
      "text/plain": [
       "                         Local time      Ask  AskVolume\n",
       "0  26.11.2018 00:00:00.439 GMT-0500  1.13456       1.00\n",
       "1  26.11.2018 00:00:00.760 GMT-0500  1.13454       1.00\n",
       "2  26.11.2018 00:00:01.307 GMT-0500  1.13454       1.25\n",
       "3  26.11.2018 00:00:01.580 GMT-0500  1.13456       2.06\n",
       "4  26.11.2018 00:00:02.158 GMT-0500  1.13455       2.81"
      ]
     },
     "execution_count": 6,
     "metadata": {},
     "output_type": "execute_result"
    }
   ],
   "source": [
    "df_ask.head()"
   ]
  },
  {
   "cell_type": "code",
   "execution_count": 7,
   "metadata": {},
   "outputs": [],
   "source": [
    "df_bid = dataframe[[\"Local time\", \"Bid\", \"BidVolume\"]]"
   ]
  },
  {
   "cell_type": "code",
   "execution_count": 8,
   "metadata": {},
   "outputs": [
    {
     "data": {
      "text/plain": [
       "0        26.11.2018 00:00:00.439 GMT-0500\n",
       "1        26.11.2018 00:00:00.760 GMT-0500\n",
       "2        26.11.2018 00:00:01.307 GMT-0500\n",
       "3        26.11.2018 00:00:01.580 GMT-0500\n",
       "4        26.11.2018 00:00:02.158 GMT-0500\n",
       "5        26.11.2018 00:00:02.365 GMT-0500\n",
       "6        26.11.2018 00:00:02.529 GMT-0500\n",
       "7        26.11.2018 00:00:03.099 GMT-0500\n",
       "8        26.11.2018 00:00:03.611 GMT-0500\n",
       "9        26.11.2018 00:00:04.133 GMT-0500\n",
       "10       26.11.2018 00:00:04.793 GMT-0500\n",
       "11       26.11.2018 00:00:07.154 GMT-0500\n",
       "12       26.11.2018 00:00:07.764 GMT-0500\n",
       "13       26.11.2018 00:00:12.126 GMT-0500\n",
       "14       26.11.2018 00:00:12.645 GMT-0500\n",
       "15       26.11.2018 00:00:12.857 GMT-0500\n",
       "16       26.11.2018 00:00:14.404 GMT-0500\n",
       "17       26.11.2018 00:00:15.603 GMT-0500\n",
       "18       26.11.2018 00:00:16.345 GMT-0500\n",
       "19       26.11.2018 00:00:16.917 GMT-0500\n",
       "20       26.11.2018 00:00:18.145 GMT-0500\n",
       "21       26.11.2018 00:00:18.418 GMT-0500\n",
       "22       26.11.2018 00:00:18.471 GMT-0500\n",
       "23       26.11.2018 00:00:19.009 GMT-0500\n",
       "24       26.11.2018 00:00:19.557 GMT-0500\n",
       "25       26.11.2018 00:00:20.179 GMT-0500\n",
       "26       26.11.2018 00:00:20.316 GMT-0500\n",
       "27       26.11.2018 00:00:20.485 GMT-0500\n",
       "28       26.11.2018 00:00:21.039 GMT-0500\n",
       "29       26.11.2018 00:00:23.757 GMT-0500\n",
       "                       ...               \n",
       "88465    26.11.2018 23:59:29.252 GMT-0500\n",
       "88466    26.11.2018 23:59:30.110 GMT-0500\n",
       "88467    26.11.2018 23:59:30.681 GMT-0500\n",
       "88468    26.11.2018 23:59:31.192 GMT-0500\n",
       "88469    26.11.2018 23:59:32.245 GMT-0500\n",
       "88470    26.11.2018 23:59:32.764 GMT-0500\n",
       "88471    26.11.2018 23:59:33.604 GMT-0500\n",
       "88472    26.11.2018 23:59:34.562 GMT-0500\n",
       "88473    26.11.2018 23:59:37.262 GMT-0500\n",
       "88474    26.11.2018 23:59:38.815 GMT-0500\n",
       "88475    26.11.2018 23:59:39.361 GMT-0500\n",
       "88476    26.11.2018 23:59:42.154 GMT-0500\n",
       "88477    26.11.2018 23:59:42.705 GMT-0500\n",
       "88478    26.11.2018 23:59:43.284 GMT-0500\n",
       "88479    26.11.2018 23:59:43.948 GMT-0500\n",
       "88480    26.11.2018 23:59:45.622 GMT-0500\n",
       "88481    26.11.2018 23:59:46.167 GMT-0500\n",
       "88482    26.11.2018 23:59:47.164 GMT-0500\n",
       "88483    26.11.2018 23:59:47.462 GMT-0500\n",
       "88484    26.11.2018 23:59:47.779 GMT-0500\n",
       "88485    26.11.2018 23:59:48.321 GMT-0500\n",
       "88486    26.11.2018 23:59:48.736 GMT-0500\n",
       "88487    26.11.2018 23:59:48.892 GMT-0500\n",
       "88488    26.11.2018 23:59:49.294 GMT-0500\n",
       "88489    26.11.2018 23:59:49.832 GMT-0500\n",
       "88490    26.11.2018 23:59:50.430 GMT-0500\n",
       "88491    26.11.2018 23:59:52.215 GMT-0500\n",
       "88492    26.11.2018 23:59:52.743 GMT-0500\n",
       "88493    26.11.2018 23:59:54.765 GMT-0500\n",
       "88494    26.11.2018 23:59:57.252 GMT-0500\n",
       "Name: Local time, Length: 88495, dtype: object"
      ]
     },
     "execution_count": 8,
     "metadata": {},
     "output_type": "execute_result"
    }
   ],
   "source": [
    "df_bid.head()"
   ]
  },
  {
   "cell_type": "code",
   "execution_count": null,
   "metadata": {},
   "outputs": [],
   "source": [
    "fig, ax = plt.subplots()\n",
    "ax.plot(df_ask[\"Local time\"], df_ask[\"Ask\"])\n",
    "# ax.plot(df_bid[\"Local time\"], df_bid[\"Bid\"])\n",
    "ax.set(xlabel='Local time', ylabel='Ask)',\n",
    "       title='Tiempo vs Valor')\n",
    "ax.grid()\n",
    "fig.savefig(\"test.png\")\n",
    "plt.show()"
   ]
  },
  {
   "cell_type": "code",
   "execution_count": null,
   "metadata": {},
   "outputs": [],
   "source": [
    "df_ask.index"
   ]
  }
 ],
 "metadata": {
  "kernelspec": {
   "display_name": "Python 3",
   "language": "python",
   "name": "python3"
  },
  "language_info": {
   "codemirror_mode": {
    "name": "ipython",
    "version": 3
   },
   "file_extension": ".py",
   "mimetype": "text/x-python",
   "name": "python",
   "nbconvert_exporter": "python",
   "pygments_lexer": "ipython3",
   "version": "3.7.0"
  }
 },
 "nbformat": 4,
 "nbformat_minor": 2
}
